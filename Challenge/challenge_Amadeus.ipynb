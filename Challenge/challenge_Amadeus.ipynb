{
 "cells": [
  {
   "cell_type": "markdown",
   "metadata": {},
   "source": [
    "# Challenge Amadeus\n",
    "## 1. Exercise 1\n",
    "Count lines\n",
    "\n",
    "At first we hace to open the file bookings.csv.bz2"
   ]
  },
  {
   "cell_type": "code",
   "execution_count": 1,
   "metadata": {},
   "outputs": [],
   "source": [
    "import pandas as pd\n",
    "import numpy as np\n",
    "import matplotlib.pyplot as plt\n",
    "import bz2"
   ]
  },
  {
   "cell_type": "markdown",
   "metadata": {},
   "source": [
    "My file is in /home/dsc/Data/challenge/bookings.csv.bz2"
   ]
  },
  {
   "cell_type": "code",
   "execution_count": 48,
   "metadata": {},
   "outputs": [],
   "source": [
    "pFolder = '/home/dsc/Data/challenge/'\n",
    "fBookings = pFolder+'bookings.csv.bz2'\n",
    "fSearches = pFolder+'searches.csv.bz2'"
   ]
  },
  {
   "cell_type": "markdown",
   "metadata": {},
   "source": [
    "I try open the file with read_csv and create a DataFrame for the other exercices"
   ]
  },
  {
   "cell_type": "code",
   "execution_count": 239,
   "metadata": {},
   "outputs": [],
   "source": [
    "#dataBookings = pd.read_csv(fBookings,delimiter='^',iterator=True,chunksize=100000)\n"
   ]
  },
  {
   "cell_type": "code",
   "execution_count": 240,
   "metadata": {},
   "outputs": [],
   "source": [
    "#count=0\n",
    "#for data in dataBookings:\n",
    "#    count +=1\n",
    "#print(count)"
   ]
  },
  {
   "cell_type": "code",
   "execution_count": 241,
   "metadata": {},
   "outputs": [],
   "source": [
    "#dfBookings = pd.concat(dataBookings)"
   ]
  },
  {
   "cell_type": "code",
   "execution_count": 226,
   "metadata": {},
   "outputs": [
    {
     "name": "stdout",
     "output_type": "stream",
     "text": [
      "10000011\n"
     ]
    }
   ],
   "source": [
    "count = 0\n",
    "with bz2.BZ2File(fBookings, \"r\") as bz:\n",
    "    for line in bz:\n",
    "        count += 1\n",
    "print(count)"
   ]
  },
  {
   "cell_type": "code",
   "execution_count": 227,
   "metadata": {},
   "outputs": [
    {
     "name": "stdout",
     "output_type": "stream",
     "text": [
      "20390199\n"
     ]
    }
   ],
   "source": [
    "count = 0\n",
    "with bz2.BZ2File(fSearches, \"r\") as bz:\n",
    "    for line in bz:\n",
    "        count += 1\n",
    "print(count)"
   ]
  },
  {
   "cell_type": "markdown",
   "metadata": {},
   "source": [
    "## 2. Exercise 2\n",
    "Top 10 arrival airports in the world in 2013 of bookings file"
   ]
  },
  {
   "cell_type": "markdown",
   "metadata": {},
   "source": [
    "We will create a sample of bookings and we can play confortable"
   ]
  },
  {
   "cell_type": "code",
   "execution_count": null,
   "metadata": {},
   "outputs": [],
   "source": [
    "! bzcat {pFolder}bookings.csv.bz2 | head -100000 | bzip2 -c > {pFolder}bookings.sample.csv.bz2 "
   ]
  },
  {
   "cell_type": "code",
   "execution_count": null,
   "metadata": {},
   "outputs": [],
   "source": [
    "! bzcat {pFolder}bookings.sample.csv.bz2 | wc "
   ]
  },
  {
   "cell_type": "code",
   "execution_count": 228,
   "metadata": {},
   "outputs": [],
   "source": [
    "fSampleBookings = pFolder + 'bookings.sample.csv.bz2'"
   ]
  },
  {
   "cell_type": "code",
   "execution_count": 229,
   "metadata": {},
   "outputs": [
    {
     "data": {
      "text/html": [
       "<div>\n",
       "<style scoped>\n",
       "    .dataframe tbody tr th:only-of-type {\n",
       "        vertical-align: middle;\n",
       "    }\n",
       "\n",
       "    .dataframe tbody tr th {\n",
       "        vertical-align: top;\n",
       "    }\n",
       "\n",
       "    .dataframe thead th {\n",
       "        text-align: right;\n",
       "    }\n",
       "</style>\n",
       "<table border=\"1\" class=\"dataframe\">\n",
       "  <thead>\n",
       "    <tr style=\"text-align: right;\">\n",
       "      <th></th>\n",
       "      <th>act_date</th>\n",
       "      <th>source</th>\n",
       "      <th>pos_ctry</th>\n",
       "      <th>pos_iata</th>\n",
       "      <th>pos_oid</th>\n",
       "      <th>rloc</th>\n",
       "      <th>cre_date</th>\n",
       "      <th>duration</th>\n",
       "      <th>distance</th>\n",
       "      <th>dep_port</th>\n",
       "      <th>...</th>\n",
       "      <th>route</th>\n",
       "      <th>carrier</th>\n",
       "      <th>bkg_class</th>\n",
       "      <th>cab_class</th>\n",
       "      <th>brd_time</th>\n",
       "      <th>off_time</th>\n",
       "      <th>pax</th>\n",
       "      <th>year</th>\n",
       "      <th>month</th>\n",
       "      <th>oid</th>\n",
       "    </tr>\n",
       "  </thead>\n",
       "  <tbody>\n",
       "    <tr>\n",
       "      <th>13579</th>\n",
       "      <td>2013-01-07 00:00:00</td>\n",
       "      <td>1G</td>\n",
       "      <td>KW</td>\n",
       "      <td>303c3d997fdad556f25848cee2a32f5f</td>\n",
       "      <td>9730677f86eb9b2121c335c66bccff8d</td>\n",
       "      <td>6220263dff5279de15b2d6c0188adcc3</td>\n",
       "      <td>2013-01-07 00:00:00</td>\n",
       "      <td>17202</td>\n",
       "      <td>0</td>\n",
       "      <td>KWI</td>\n",
       "      <td>...</td>\n",
       "      <td>LHRDOHKWI</td>\n",
       "      <td>BC</td>\n",
       "      <td>E</td>\n",
       "      <td>Y</td>\n",
       "      <td>2013-01-23 20:30:00</td>\n",
       "      <td>2013-01-24 09:12:57</td>\n",
       "      <td>2</td>\n",
       "      <td>2013</td>\n",
       "      <td>1</td>\n",
       "      <td>NULL</td>\n",
       "    </tr>\n",
       "    <tr>\n",
       "      <th>13899</th>\n",
       "      <td>2013-01-26 00:00:00</td>\n",
       "      <td>1G</td>\n",
       "      <td>SA</td>\n",
       "      <td>10d45ef9223321e3d6c2e617e8178b90</td>\n",
       "      <td>a5bee175142c0a11b28b0812c9cf9ab9</td>\n",
       "      <td>c69cdefdffe9c70fdf6796426f3213b3</td>\n",
       "      <td>2013-01-07 00:00:00</td>\n",
       "      <td>20927</td>\n",
       "      <td>0</td>\n",
       "      <td>JED</td>\n",
       "      <td>...</td>\n",
       "      <td>CGKDXBJED</td>\n",
       "      <td>OU</td>\n",
       "      <td>U</td>\n",
       "      <td>Y</td>\n",
       "      <td>2013-04-09 07:25:00</td>\n",
       "      <td>2013-04-09 18:02:51</td>\n",
       "      <td>1</td>\n",
       "      <td>2013</td>\n",
       "      <td>1</td>\n",
       "      <td>NULL</td>\n",
       "    </tr>\n",
       "    <tr>\n",
       "      <th>43444</th>\n",
       "      <td>2013-01-15 00:00:00</td>\n",
       "      <td>1A</td>\n",
       "      <td>IR</td>\n",
       "      <td>61f232bdb022a925e3b76440f462b92a</td>\n",
       "      <td>e6eafbaac934e20b19c636a7d980dac3</td>\n",
       "      <td>d6dbf565b319c94e1713cfd08acb13d6</td>\n",
       "      <td>2012-12-25 00:00:00</td>\n",
       "      <td>387041</td>\n",
       "      <td>0</td>\n",
       "      <td>IKA</td>\n",
       "      <td>...</td>\n",
       "      <td>IKAISTORD</td>\n",
       "      <td>EU</td>\n",
       "      <td>E</td>\n",
       "      <td>Y</td>\n",
       "      <td>2013-01-18 08:20:00</td>\n",
       "      <td>2013-01-18 16:49:46</td>\n",
       "      <td>-1</td>\n",
       "      <td>2013</td>\n",
       "      <td>1</td>\n",
       "      <td>NULL</td>\n",
       "    </tr>\n",
       "    <tr>\n",
       "      <th>97932</th>\n",
       "      <td>2013-01-08 00:00:00</td>\n",
       "      <td>1A</td>\n",
       "      <td>IN</td>\n",
       "      <td>9e586aade06c70687736accbe5e98737</td>\n",
       "      <td>e92059401689ecc80a4aef7f065e1abc</td>\n",
       "      <td>9218323efad894d04df0a605693f0376</td>\n",
       "      <td>2012-12-25 00:00:00</td>\n",
       "      <td>866</td>\n",
       "      <td>9553</td>\n",
       "      <td>ADL</td>\n",
       "      <td>...</td>\n",
       "      <td>ADLSINDEL</td>\n",
       "      <td>DB</td>\n",
       "      <td>B</td>\n",
       "      <td>Y</td>\n",
       "      <td>2013-02-04 12:40:00</td>\n",
       "      <td>2013-02-04 22:06:25</td>\n",
       "      <td>-1</td>\n",
       "      <td>2013</td>\n",
       "      <td>1</td>\n",
       "      <td>NULL</td>\n",
       "    </tr>\n",
       "    <tr>\n",
       "      <th>85062</th>\n",
       "      <td>2013-03-19 00:00:00</td>\n",
       "      <td>1A</td>\n",
       "      <td>SA</td>\n",
       "      <td>ae50bfd9217dd423ac28cf7f39149eeb</td>\n",
       "      <td>cf898f870fab68ce029c4e6d7672815b</td>\n",
       "      <td>6fba6024953342a1472c8814c077fc92</td>\n",
       "      <td>2013-03-17 00:00:00</td>\n",
       "      <td>47438</td>\n",
       "      <td>0</td>\n",
       "      <td>CAI</td>\n",
       "      <td>...</td>\n",
       "      <td>CAIJEDGIZ</td>\n",
       "      <td>DG</td>\n",
       "      <td>Y</td>\n",
       "      <td>Y</td>\n",
       "      <td>2013-05-21 22:55:00</td>\n",
       "      <td>2013-05-22 07:13:00</td>\n",
       "      <td>3</td>\n",
       "      <td>2013</td>\n",
       "      <td>3</td>\n",
       "      <td>NULL</td>\n",
       "    </tr>\n",
       "  </tbody>\n",
       "</table>\n",
       "<p>5 rows × 38 columns</p>\n",
       "</div>"
      ],
      "text/plain": [
       "       act_date             source  pos_ctry  \\\n",
       "13579  2013-01-07 00:00:00  1G      KW         \n",
       "13899  2013-01-26 00:00:00  1G      SA         \n",
       "43444  2013-01-15 00:00:00  1A      IR         \n",
       "97932  2013-01-08 00:00:00  1A      IN         \n",
       "85062  2013-03-19 00:00:00  1A      SA         \n",
       "\n",
       "                               pos_iata                         pos_oid    \\\n",
       "13579  303c3d997fdad556f25848cee2a32f5f  9730677f86eb9b2121c335c66bccff8d   \n",
       "13899  10d45ef9223321e3d6c2e617e8178b90  a5bee175142c0a11b28b0812c9cf9ab9   \n",
       "43444  61f232bdb022a925e3b76440f462b92a  e6eafbaac934e20b19c636a7d980dac3   \n",
       "97932  9e586aade06c70687736accbe5e98737  e92059401689ecc80a4aef7f065e1abc   \n",
       "85062  ae50bfd9217dd423ac28cf7f39149eeb  cf898f870fab68ce029c4e6d7672815b   \n",
       "\n",
       "                         rloc            cre_date             duration  \\\n",
       "13579  6220263dff5279de15b2d6c0188adcc3  2013-01-07 00:00:00     17202   \n",
       "13899  c69cdefdffe9c70fdf6796426f3213b3  2013-01-07 00:00:00     20927   \n",
       "43444  d6dbf565b319c94e1713cfd08acb13d6  2012-12-25 00:00:00    387041   \n",
       "97932  9218323efad894d04df0a605693f0376  2012-12-25 00:00:00       866   \n",
       "85062  6fba6024953342a1472c8814c077fc92  2013-03-17 00:00:00     47438   \n",
       "\n",
       "       distance  dep_port    ...         route           carrier  bkg_class  \\\n",
       "13579         0  KWI         ...      LHRDOHKWI               BC  E           \n",
       "13899         0  JED         ...      CGKDXBJED               OU  U           \n",
       "43444         0  IKA         ...         IKAISTORD            EU  E           \n",
       "97932      9553  ADL         ...         ADLSINDEL            DB  B           \n",
       "85062         0  CAI         ...         CAIJEDGIZ            DG  Y           \n",
       "\n",
       "       cab_class  brd_time             off_time            pax  year month  \\\n",
       "13579  Y          2013-01-23 20:30:00  2013-01-24 09:12:57   2  2013     1   \n",
       "13899  Y          2013-04-09 07:25:00  2013-04-09 18:02:51   1  2013     1   \n",
       "43444  Y          2013-01-18 08:20:00  2013-01-18 16:49:46  -1  2013     1   \n",
       "97932  Y          2013-02-04 12:40:00  2013-02-04 22:06:25  -1  2013     1   \n",
       "85062  Y          2013-05-21 22:55:00  2013-05-22 07:13:00   3  2013     3   \n",
       "\n",
       "       oid        \n",
       "13579  NULL       \n",
       "13899  NULL       \n",
       "43444  NULL       \n",
       "97932  NULL       \n",
       "85062  NULL       \n",
       "\n",
       "[5 rows x 38 columns]"
      ]
     },
     "execution_count": 229,
     "metadata": {},
     "output_type": "execute_result"
    }
   ],
   "source": [
    "df_sampleBookings = pd.read_csv(fSampleBookings,delimiter='^')\n",
    "df_sampleBookings.sample(5)"
   ]
  },
  {
   "cell_type": "code",
   "execution_count": 230,
   "metadata": {},
   "outputs": [],
   "source": [
    "df_sampleBookings.columns=df_sampleBookings.columns.str.replace('\\s+', '')"
   ]
  },
  {
   "cell_type": "code",
   "execution_count": 231,
   "metadata": {},
   "outputs": [],
   "source": [
    "df_sampleBookings_sol= df_sampleBookings[['arr_port','pax','year']]"
   ]
  },
  {
   "cell_type": "code",
   "execution_count": 232,
   "metadata": {},
   "outputs": [
    {
     "name": "stderr",
     "output_type": "stream",
     "text": [
      "/home/dsc/anaconda3/lib/python3.6/site-packages/ipykernel_launcher.py:3: SettingWithCopyWarning: \n",
      "A value is trying to be set on a copy of a slice from a DataFrame.\n",
      "Try using .loc[row_indexer,col_indexer] = value instead\n",
      "\n",
      "See the caveats in the documentation: http://pandas.pydata.org/pandas-docs/stable/indexing.html#indexing-view-versus-copy\n",
      "  This is separate from the ipykernel package so we can avoid doing imports until\n"
     ]
    }
   ],
   "source": [
    "df_sampleBookings_sol=df_sampleBookings_sol[df_sampleBookings_sol['year']==2013]\n",
    "df_sampleBookings_sol= df_sampleBookings[['arr_port','pax']]\n",
    "df_sampleBookings_sol['arr_port']= df_sampleBookings['arr_port'].str.strip()"
   ]
  },
  {
   "cell_type": "code",
   "execution_count": 233,
   "metadata": {},
   "outputs": [
    {
     "data": {
      "text/html": [
       "<div>\n",
       "<style scoped>\n",
       "    .dataframe tbody tr th:only-of-type {\n",
       "        vertical-align: middle;\n",
       "    }\n",
       "\n",
       "    .dataframe tbody tr th {\n",
       "        vertical-align: top;\n",
       "    }\n",
       "\n",
       "    .dataframe thead th {\n",
       "        text-align: right;\n",
       "    }\n",
       "</style>\n",
       "<table border=\"1\" class=\"dataframe\">\n",
       "  <thead>\n",
       "    <tr style=\"text-align: right;\">\n",
       "      <th></th>\n",
       "      <th>pax</th>\n",
       "    </tr>\n",
       "    <tr>\n",
       "      <th>arr_port</th>\n",
       "      <th></th>\n",
       "    </tr>\n",
       "  </thead>\n",
       "  <tbody>\n",
       "    <tr>\n",
       "      <th>LHR</th>\n",
       "      <td>1006</td>\n",
       "    </tr>\n",
       "    <tr>\n",
       "      <th>MCO</th>\n",
       "      <td>861</td>\n",
       "    </tr>\n",
       "    <tr>\n",
       "      <th>JFK</th>\n",
       "      <td>795</td>\n",
       "    </tr>\n",
       "    <tr>\n",
       "      <th>LAX</th>\n",
       "      <td>761</td>\n",
       "    </tr>\n",
       "    <tr>\n",
       "      <th>BKK</th>\n",
       "      <td>747</td>\n",
       "    </tr>\n",
       "    <tr>\n",
       "      <th>LAS</th>\n",
       "      <td>732</td>\n",
       "    </tr>\n",
       "    <tr>\n",
       "      <th>SFO</th>\n",
       "      <td>705</td>\n",
       "    </tr>\n",
       "    <tr>\n",
       "      <th>ORD</th>\n",
       "      <td>686</td>\n",
       "    </tr>\n",
       "    <tr>\n",
       "      <th>CDG</th>\n",
       "      <td>676</td>\n",
       "    </tr>\n",
       "    <tr>\n",
       "      <th>DXB</th>\n",
       "      <td>587</td>\n",
       "    </tr>\n",
       "  </tbody>\n",
       "</table>\n",
       "</div>"
      ],
      "text/plain": [
       "           pax\n",
       "arr_port      \n",
       "LHR       1006\n",
       "MCO        861\n",
       "JFK        795\n",
       "LAX        761\n",
       "BKK        747\n",
       "LAS        732\n",
       "SFO        705\n",
       "ORD        686\n",
       "CDG        676\n",
       "DXB        587"
      ]
     },
     "execution_count": 233,
     "metadata": {},
     "output_type": "execute_result"
    }
   ],
   "source": [
    "df_sampleBookings_sol.groupby(['arr_port']).sum().sort_values(by='pax',ascending=False).head(10)"
   ]
  },
  {
   "cell_type": "markdown",
   "metadata": {},
   "source": [
    "Note that we have arr_port with negative sum of pax, it's only a sampel and we can lost the good paxes, but if we find this in the full file maybe we have a bad data."
   ]
  },
  {
   "cell_type": "markdown",
   "metadata": {},
   "source": [
    "Now we have the exercice 2 solve to the sample, our new target is open the full file."
   ]
  },
  {
   "cell_type": "code",
   "execution_count": 234,
   "metadata": {},
   "outputs": [],
   "source": [
    "delimiter='^'\n",
    "chunksize=500000\n",
    "usecols=['arr_port','pax','year']\n",
    "dataBookings = pd.read_csv(fBookings, delimiter=delimiter, compression='bz2', iterator=True, chunksize=chunksize,usecols=usecols)"
   ]
  },
  {
   "cell_type": "code",
   "execution_count": 235,
   "metadata": {},
   "outputs": [],
   "source": [
    "df_total=pd.DataFrame()\n",
    "for chunk in dataBookings:\n",
    "    df=chunk[chunk['year']==2013]\n",
    "    df=df[['arr_port','pax']]\n",
    "    df['arr_port']=df['arr_port'].str.strip().str.upper()\n",
    "    df=df.groupby('arr_port').sum().sort_values(by='pax',ascending=False)\n",
    "    df_total=df_total.append(df)"
   ]
  },
  {
   "cell_type": "code",
   "execution_count": 236,
   "metadata": {},
   "outputs": [
    {
     "data": {
      "text/html": [
       "<div>\n",
       "<style scoped>\n",
       "    .dataframe tbody tr th:only-of-type {\n",
       "        vertical-align: middle;\n",
       "    }\n",
       "\n",
       "    .dataframe tbody tr th {\n",
       "        vertical-align: top;\n",
       "    }\n",
       "\n",
       "    .dataframe thead th {\n",
       "        text-align: right;\n",
       "    }\n",
       "</style>\n",
       "<table border=\"1\" class=\"dataframe\">\n",
       "  <thead>\n",
       "    <tr style=\"text-align: right;\">\n",
       "      <th></th>\n",
       "      <th>pax</th>\n",
       "    </tr>\n",
       "    <tr>\n",
       "      <th>arr_port</th>\n",
       "      <th></th>\n",
       "    </tr>\n",
       "  </thead>\n",
       "  <tbody>\n",
       "    <tr>\n",
       "      <th>LHR</th>\n",
       "      <td>88809.0</td>\n",
       "    </tr>\n",
       "    <tr>\n",
       "      <th>MCO</th>\n",
       "      <td>70930.0</td>\n",
       "    </tr>\n",
       "    <tr>\n",
       "      <th>LAX</th>\n",
       "      <td>70530.0</td>\n",
       "    </tr>\n",
       "    <tr>\n",
       "      <th>LAS</th>\n",
       "      <td>69630.0</td>\n",
       "    </tr>\n",
       "    <tr>\n",
       "      <th>JFK</th>\n",
       "      <td>66270.0</td>\n",
       "    </tr>\n",
       "    <tr>\n",
       "      <th>CDG</th>\n",
       "      <td>64490.0</td>\n",
       "    </tr>\n",
       "    <tr>\n",
       "      <th>BKK</th>\n",
       "      <td>59460.0</td>\n",
       "    </tr>\n",
       "    <tr>\n",
       "      <th>MIA</th>\n",
       "      <td>58150.0</td>\n",
       "    </tr>\n",
       "    <tr>\n",
       "      <th>SFO</th>\n",
       "      <td>58000.0</td>\n",
       "    </tr>\n",
       "    <tr>\n",
       "      <th>DXB</th>\n",
       "      <td>55590.0</td>\n",
       "    </tr>\n",
       "  </tbody>\n",
       "</table>\n",
       "</div>"
      ],
      "text/plain": [
       "              pax\n",
       "arr_port         \n",
       "LHR       88809.0\n",
       "MCO       70930.0\n",
       "LAX       70530.0\n",
       "LAS       69630.0\n",
       "JFK       66270.0\n",
       "CDG       64490.0\n",
       "BKK       59460.0\n",
       "MIA       58150.0\n",
       "SFO       58000.0\n",
       "DXB       55590.0"
      ]
     },
     "execution_count": 236,
     "metadata": {},
     "output_type": "execute_result"
    }
   ],
   "source": [
    "df_total.groupby('arr_port').sum().sort_values(by='pax',ascending=False).head(10)"
   ]
  },
  {
   "cell_type": "markdown",
   "metadata": {},
   "source": [
    "## 3. Exercise 3\n",
    "Plot the monthly number of searches for flights arriving at Malaga, Madrid or Barcelona\n",
    "\n",
    "In the same way to the exercise 2, we will create a sample of the file to play"
   ]
  },
  {
   "cell_type": "code",
   "execution_count": 3,
   "metadata": {},
   "outputs": [
    {
     "name": "stdout",
     "output_type": "stream",
     "text": [
      "\r\n",
      "bzcat: I/O or other error, bailing out.  Possible reason follows.\r\n",
      "bzcat: Broken pipe\r\n",
      "\tInput file = /home/dsc/Data/challenge/searches.csv.bz2, output file = (stdout)\r\n"
     ]
    }
   ],
   "source": [
    "! bzcat {pFolder}searches.csv.bz2 | head -100000 | bzip2 -c > {pFolder}searches.sample.csv.bz2 "
   ]
  },
  {
   "cell_type": "code",
   "execution_count": 4,
   "metadata": {},
   "outputs": [],
   "source": [
    "fSampleSearches = pFolder + 'searches.sample.csv.bz2'"
   ]
  },
  {
   "cell_type": "code",
   "execution_count": 61,
   "metadata": {},
   "outputs": [
    {
     "data": {
      "text/html": [
       "<div>\n",
       "<style scoped>\n",
       "    .dataframe tbody tr th:only-of-type {\n",
       "        vertical-align: middle;\n",
       "    }\n",
       "\n",
       "    .dataframe tbody tr th {\n",
       "        vertical-align: top;\n",
       "    }\n",
       "\n",
       "    .dataframe thead th {\n",
       "        text-align: right;\n",
       "    }\n",
       "</style>\n",
       "<table border=\"1\" class=\"dataframe\">\n",
       "  <thead>\n",
       "    <tr style=\"text-align: right;\">\n",
       "      <th></th>\n",
       "      <th>Date</th>\n",
       "      <th>Time</th>\n",
       "      <th>TxnCode</th>\n",
       "      <th>OfficeID</th>\n",
       "      <th>Country</th>\n",
       "      <th>Origin</th>\n",
       "      <th>Destination</th>\n",
       "      <th>RoundTrip</th>\n",
       "      <th>NbSegments</th>\n",
       "      <th>Seg1Departure</th>\n",
       "      <th>...</th>\n",
       "      <th>Seg6Arrival</th>\n",
       "      <th>Seg6Date</th>\n",
       "      <th>Seg6Carrier</th>\n",
       "      <th>Seg6BookingCode</th>\n",
       "      <th>From</th>\n",
       "      <th>IsPublishedForNeg</th>\n",
       "      <th>IsFromInternet</th>\n",
       "      <th>IsFromVista</th>\n",
       "      <th>TerminalID</th>\n",
       "      <th>InternetOffice</th>\n",
       "    </tr>\n",
       "  </thead>\n",
       "  <tbody>\n",
       "    <tr>\n",
       "      <th>79731</th>\n",
       "      <td>2013-03-21</td>\n",
       "      <td>09:45:41</td>\n",
       "      <td>MPC</td>\n",
       "      <td>d03a30f66f773a65aad66e7bafd1110f</td>\n",
       "      <td>GR</td>\n",
       "      <td>SKG</td>\n",
       "      <td>KJA</td>\n",
       "      <td>1</td>\n",
       "      <td>2</td>\n",
       "      <td>SKG</td>\n",
       "      <td>...</td>\n",
       "      <td>NaN</td>\n",
       "      <td>NaN</td>\n",
       "      <td>NaN</td>\n",
       "      <td>NaN</td>\n",
       "      <td>1ASIWS</td>\n",
       "      <td>0</td>\n",
       "      <td>0</td>\n",
       "      <td>0</td>\n",
       "      <td>d41d8cd98f00b204e9800998ecf8427e</td>\n",
       "      <td>ATH</td>\n",
       "    </tr>\n",
       "    <tr>\n",
       "      <th>71805</th>\n",
       "      <td>2013-03-13</td>\n",
       "      <td>21:33:01</td>\n",
       "      <td>MPT</td>\n",
       "      <td>788e52ddaa551032c69ba37cc316233f</td>\n",
       "      <td>FR</td>\n",
       "      <td>BCN</td>\n",
       "      <td>OSL</td>\n",
       "      <td>1</td>\n",
       "      <td>2</td>\n",
       "      <td>BCN</td>\n",
       "      <td>...</td>\n",
       "      <td>NaN</td>\n",
       "      <td>NaN</td>\n",
       "      <td>NaN</td>\n",
       "      <td>NaN</td>\n",
       "      <td>1ASI</td>\n",
       "      <td>0</td>\n",
       "      <td>0</td>\n",
       "      <td>0</td>\n",
       "      <td>d41d8cd98f00b204e9800998ecf8427e</td>\n",
       "      <td>PAR</td>\n",
       "    </tr>\n",
       "    <tr>\n",
       "      <th>42030</th>\n",
       "      <td>2013-02-12</td>\n",
       "      <td>17:40:28</td>\n",
       "      <td>MTP</td>\n",
       "      <td>236cbf458f79dbb9d5e9c9430438c3db</td>\n",
       "      <td>US</td>\n",
       "      <td>IAD</td>\n",
       "      <td>ROM</td>\n",
       "      <td>1</td>\n",
       "      <td>2</td>\n",
       "      <td>IAD</td>\n",
       "      <td>...</td>\n",
       "      <td>NaN</td>\n",
       "      <td>NaN</td>\n",
       "      <td>NaN</td>\n",
       "      <td>NaN</td>\n",
       "      <td>1ASIWS</td>\n",
       "      <td>0</td>\n",
       "      <td>0</td>\n",
       "      <td>0</td>\n",
       "      <td>d41d8cd98f00b204e9800998ecf8427e</td>\n",
       "      <td>HPN</td>\n",
       "    </tr>\n",
       "    <tr>\n",
       "      <th>36846</th>\n",
       "      <td>2013-02-06</td>\n",
       "      <td>15:15:17</td>\n",
       "      <td>CAL</td>\n",
       "      <td>6ec95b5d47a8864fb45dd8c2265b4462</td>\n",
       "      <td>AU</td>\n",
       "      <td>PER</td>\n",
       "      <td>GLA</td>\n",
       "      <td>1</td>\n",
       "      <td>2</td>\n",
       "      <td>PER</td>\n",
       "      <td>...</td>\n",
       "      <td>NaN</td>\n",
       "      <td>NaN</td>\n",
       "      <td>NaN</td>\n",
       "      <td>NaN</td>\n",
       "      <td>1ASIWS</td>\n",
       "      <td>0</td>\n",
       "      <td>0</td>\n",
       "      <td>0</td>\n",
       "      <td>d41d8cd98f00b204e9800998ecf8427e</td>\n",
       "      <td>SYD</td>\n",
       "    </tr>\n",
       "    <tr>\n",
       "      <th>7959</th>\n",
       "      <td>2013-01-08</td>\n",
       "      <td>07:06:38</td>\n",
       "      <td>FFP</td>\n",
       "      <td>f127c92cdab5a4eeb21dc606aaed24f6</td>\n",
       "      <td>ES</td>\n",
       "      <td>DUS</td>\n",
       "      <td>ZRH</td>\n",
       "      <td>1</td>\n",
       "      <td>2</td>\n",
       "      <td>DUS</td>\n",
       "      <td>...</td>\n",
       "      <td>NaN</td>\n",
       "      <td>NaN</td>\n",
       "      <td>NaN</td>\n",
       "      <td>NaN</td>\n",
       "      <td>1ASIWS</td>\n",
       "      <td>0</td>\n",
       "      <td>0</td>\n",
       "      <td>0</td>\n",
       "      <td>d41d8cd98f00b204e9800998ecf8427e</td>\n",
       "      <td>PMI</td>\n",
       "    </tr>\n",
       "  </tbody>\n",
       "</table>\n",
       "<p>5 rows × 45 columns</p>\n",
       "</div>"
      ],
      "text/plain": [
       "             Date      Time TxnCode                          OfficeID Country  \\\n",
       "79731  2013-03-21  09:45:41     MPC  d03a30f66f773a65aad66e7bafd1110f      GR   \n",
       "71805  2013-03-13  21:33:01     MPT  788e52ddaa551032c69ba37cc316233f      FR   \n",
       "42030  2013-02-12  17:40:28     MTP  236cbf458f79dbb9d5e9c9430438c3db      US   \n",
       "36846  2013-02-06  15:15:17     CAL  6ec95b5d47a8864fb45dd8c2265b4462      AU   \n",
       "7959   2013-01-08  07:06:38     FFP  f127c92cdab5a4eeb21dc606aaed24f6      ES   \n",
       "\n",
       "      Origin Destination  RoundTrip  NbSegments Seg1Departure      ...        \\\n",
       "79731    SKG         KJA          1           2           SKG      ...         \n",
       "71805    BCN         OSL          1           2           BCN      ...         \n",
       "42030    IAD         ROM          1           2           IAD      ...         \n",
       "36846    PER         GLA          1           2           PER      ...         \n",
       "7959     DUS         ZRH          1           2           DUS      ...         \n",
       "\n",
       "      Seg6Arrival Seg6Date Seg6Carrier Seg6BookingCode    From  \\\n",
       "79731         NaN      NaN         NaN             NaN  1ASIWS   \n",
       "71805         NaN      NaN         NaN             NaN    1ASI   \n",
       "42030         NaN      NaN         NaN             NaN  1ASIWS   \n",
       "36846         NaN      NaN         NaN             NaN  1ASIWS   \n",
       "7959          NaN      NaN         NaN             NaN  1ASIWS   \n",
       "\n",
       "      IsPublishedForNeg IsFromInternet IsFromVista  \\\n",
       "79731                 0              0           0   \n",
       "71805                 0              0           0   \n",
       "42030                 0              0           0   \n",
       "36846                 0              0           0   \n",
       "7959                  0              0           0   \n",
       "\n",
       "                             TerminalID InternetOffice  \n",
       "79731  d41d8cd98f00b204e9800998ecf8427e            ATH  \n",
       "71805  d41d8cd98f00b204e9800998ecf8427e            PAR  \n",
       "42030  d41d8cd98f00b204e9800998ecf8427e            HPN  \n",
       "36846  d41d8cd98f00b204e9800998ecf8427e            SYD  \n",
       "7959   d41d8cd98f00b204e9800998ecf8427e            PMI  \n",
       "\n",
       "[5 rows x 45 columns]"
      ]
     },
     "execution_count": 61,
     "metadata": {},
     "output_type": "execute_result"
    }
   ],
   "source": [
    "df_sampleSearches = pd.read_csv(fSampleSearches,delimiter='^')\n",
    "df_sampleSearches.sample(5)"
   ]
  },
  {
   "cell_type": "code",
   "execution_count": 62,
   "metadata": {},
   "outputs": [
    {
     "data": {
      "text/plain": [
       "Index(['Date', 'Time', 'TxnCode', 'OfficeID', 'Country', 'Origin',\n",
       "       'Destination', 'RoundTrip', 'NbSegments', 'Seg1Departure',\n",
       "       'Seg1Arrival', 'Seg1Date', 'Seg1Carrier', 'Seg1BookingCode',\n",
       "       'Seg2Departure', 'Seg2Arrival', 'Seg2Date', 'Seg2Carrier',\n",
       "       'Seg2BookingCode', 'Seg3Departure', 'Seg3Arrival', 'Seg3Date',\n",
       "       'Seg3Carrier', 'Seg3BookingCode', 'Seg4Departure', 'Seg4Arrival',\n",
       "       'Seg4Date', 'Seg4Carrier', 'Seg4BookingCode', 'Seg5Departure',\n",
       "       'Seg5Arrival', 'Seg5Date', 'Seg5Carrier', 'Seg5BookingCode',\n",
       "       'Seg6Departure', 'Seg6Arrival', 'Seg6Date', 'Seg6Carrier',\n",
       "       'Seg6BookingCode', 'From', 'IsPublishedForNeg', 'IsFromInternet',\n",
       "       'IsFromVista', 'TerminalID', 'InternetOffice'],\n",
       "      dtype='object')"
      ]
     },
     "execution_count": 62,
     "metadata": {},
     "output_type": "execute_result"
    }
   ],
   "source": [
    "df_sampleSearches.columns"
   ]
  },
  {
   "cell_type": "code",
   "execution_count": 63,
   "metadata": {},
   "outputs": [
    {
     "data": {
      "text/plain": [
       "Date           False\n",
       "Destination    False\n",
       "dtype: bool"
      ]
     },
     "execution_count": 63,
     "metadata": {},
     "output_type": "execute_result"
    }
   ],
   "source": [
    "df_sampleSearches[['Date','Destination']].isnull().any()"
   ]
  },
  {
   "cell_type": "markdown",
   "metadata": {},
   "source": [
    "There is not NaN in my columns, but maybe we need to delete all nan if in the full data there are not so much NaN."
   ]
  },
  {
   "cell_type": "code",
   "execution_count": 64,
   "metadata": {},
   "outputs": [
    {
     "data": {
      "text/plain": [
       "Index(['Date', 'Time', 'TxnCode', 'OfficeID', 'Country', 'Origin',\n",
       "       'Destination', 'RoundTrip', 'NbSegments', 'Seg1Departure',\n",
       "       'Seg1Arrival', 'Seg1Date', 'Seg1Carrier', 'Seg1BookingCode',\n",
       "       'Seg2Departure', 'Seg2Arrival', 'Seg2Date', 'Seg2Carrier',\n",
       "       'Seg2BookingCode', 'Seg3Departure', 'Seg3Arrival', 'Seg3Date',\n",
       "       'Seg3Carrier', 'Seg3BookingCode', 'Seg4Departure', 'Seg4Arrival',\n",
       "       'Seg4Date', 'Seg4Carrier', 'Seg4BookingCode', 'Seg5Departure',\n",
       "       'Seg5Arrival', 'Seg5Date', 'Seg5Carrier', 'Seg5BookingCode',\n",
       "       'Seg6Departure', 'Seg6Arrival', 'Seg6Date', 'Seg6Carrier',\n",
       "       'Seg6BookingCode', 'From', 'IsPublishedForNeg', 'IsFromInternet',\n",
       "       'IsFromVista', 'TerminalID', 'InternetOffice'],\n",
       "      dtype='object')"
      ]
     },
     "execution_count": 64,
     "metadata": {},
     "output_type": "execute_result"
    }
   ],
   "source": [
    "df_sampleSearches.columns.str.replace(' ','')"
   ]
  },
  {
   "cell_type": "markdown",
   "metadata": {},
   "source": [
    "We can see that the data don't have any columns call mounth and any of their columns hace this information, we have to create a column 'Mounth' and from 'Date' we can take this information."
   ]
  },
  {
   "cell_type": "code",
   "execution_count": 65,
   "metadata": {},
   "outputs": [],
   "source": [
    "df_sampleSearches['Date'] = pd.to_datetime(df_sampleSearches['Date'])"
   ]
  },
  {
   "cell_type": "code",
   "execution_count": 66,
   "metadata": {},
   "outputs": [],
   "source": [
    "df_sampleSearches['Month'] = df_sampleSearches['Date'].apply(lambda x: str(x.year))+'-'+df_sampleSearches['Date'].apply(lambda x: str(x.month))"
   ]
  },
  {
   "cell_type": "code",
   "execution_count": 67,
   "metadata": {},
   "outputs": [],
   "source": [
    "#df_sampleSearches['Month'] = pd.to_datetime(df_sampleSearches['Month'])"
   ]
  },
  {
   "cell_type": "code",
   "execution_count": 68,
   "metadata": {},
   "outputs": [
    {
     "data": {
      "text/html": [
       "<div>\n",
       "<style scoped>\n",
       "    .dataframe tbody tr th:only-of-type {\n",
       "        vertical-align: middle;\n",
       "    }\n",
       "\n",
       "    .dataframe tbody tr th {\n",
       "        vertical-align: top;\n",
       "    }\n",
       "\n",
       "    .dataframe thead th {\n",
       "        text-align: right;\n",
       "    }\n",
       "</style>\n",
       "<table border=\"1\" class=\"dataframe\">\n",
       "  <thead>\n",
       "    <tr style=\"text-align: right;\">\n",
       "      <th></th>\n",
       "      <th>Date</th>\n",
       "      <th>Time</th>\n",
       "      <th>TxnCode</th>\n",
       "      <th>OfficeID</th>\n",
       "      <th>Country</th>\n",
       "      <th>Origin</th>\n",
       "      <th>Destination</th>\n",
       "      <th>RoundTrip</th>\n",
       "      <th>NbSegments</th>\n",
       "      <th>Seg1Departure</th>\n",
       "      <th>...</th>\n",
       "      <th>Seg6Date</th>\n",
       "      <th>Seg6Carrier</th>\n",
       "      <th>Seg6BookingCode</th>\n",
       "      <th>From</th>\n",
       "      <th>IsPublishedForNeg</th>\n",
       "      <th>IsFromInternet</th>\n",
       "      <th>IsFromVista</th>\n",
       "      <th>TerminalID</th>\n",
       "      <th>InternetOffice</th>\n",
       "      <th>Month</th>\n",
       "    </tr>\n",
       "  </thead>\n",
       "  <tbody>\n",
       "    <tr>\n",
       "      <th>6975</th>\n",
       "      <td>2013-01-07</td>\n",
       "      <td>19:58:29</td>\n",
       "      <td>MPT</td>\n",
       "      <td>966af57bac7a9b07b029ebb01e0e9574</td>\n",
       "      <td>GR</td>\n",
       "      <td>VIE</td>\n",
       "      <td>SAO</td>\n",
       "      <td>1</td>\n",
       "      <td>2</td>\n",
       "      <td>VIE</td>\n",
       "      <td>...</td>\n",
       "      <td>NaN</td>\n",
       "      <td>NaN</td>\n",
       "      <td>NaN</td>\n",
       "      <td>1ASIWS</td>\n",
       "      <td>0</td>\n",
       "      <td>0</td>\n",
       "      <td>0</td>\n",
       "      <td>d41d8cd98f00b204e9800998ecf8427e</td>\n",
       "      <td>ATH</td>\n",
       "      <td>2013-1</td>\n",
       "    </tr>\n",
       "  </tbody>\n",
       "</table>\n",
       "<p>1 rows × 46 columns</p>\n",
       "</div>"
      ],
      "text/plain": [
       "           Date      Time TxnCode                          OfficeID Country  \\\n",
       "6975 2013-01-07  19:58:29     MPT  966af57bac7a9b07b029ebb01e0e9574      GR   \n",
       "\n",
       "     Origin Destination  RoundTrip  NbSegments Seg1Departure   ...   Seg6Date  \\\n",
       "6975    VIE         SAO          1           2           VIE   ...        NaN   \n",
       "\n",
       "     Seg6Carrier Seg6BookingCode    From IsPublishedForNeg IsFromInternet  \\\n",
       "6975         NaN             NaN  1ASIWS                 0              0   \n",
       "\n",
       "     IsFromVista                        TerminalID InternetOffice   Month  \n",
       "6975           0  d41d8cd98f00b204e9800998ecf8427e            ATH  2013-1  \n",
       "\n",
       "[1 rows x 46 columns]"
      ]
     },
     "execution_count": 68,
     "metadata": {},
     "output_type": "execute_result"
    }
   ],
   "source": [
    "df_sampleSearches.sample()"
   ]
  },
  {
   "cell_type": "code",
   "execution_count": 69,
   "metadata": {},
   "outputs": [],
   "source": [
    "df_sampleSearches['Destination']=df_sampleSearches['Destination'].str.replace(' ','').str.upper()"
   ]
  },
  {
   "cell_type": "code",
   "execution_count": 70,
   "metadata": {},
   "outputs": [],
   "source": [
    "df_sampleSearches_solMAD=df_sampleSearches[['Destination','Month']][df_sampleSearches['Destination']=='MAD']\n",
    "df_sampleSearches_solAGP=df_sampleSearches[['Destination','Month']][df_sampleSearches['Destination']=='AGP']\n",
    "df_sampleSearches_solBCN=df_sampleSearches[['Destination','Month']][df_sampleSearches['Destination']=='BCN']"
   ]
  },
  {
   "cell_type": "code",
   "execution_count": 71,
   "metadata": {},
   "outputs": [
    {
     "name": "stdout",
     "output_type": "stream",
     "text": [
      "        Destination\n",
      "Month              \n",
      "2013-1          425\n",
      "2013-2          400\n",
      "2013-3          433\n",
      "2013-4          147\n",
      "        Destination\n",
      "Month              \n",
      "2013-1          169\n",
      "2013-2          147\n",
      "2013-3          187\n",
      "2013-4           31\n",
      "        Destination\n",
      "Month              \n",
      "2013-1          517\n",
      "2013-2          497\n",
      "2013-3          536\n",
      "2013-4          174\n"
     ]
    }
   ],
   "source": [
    "print(df_sampleSearches_solMAD.groupby('Month').count())\n",
    "print(df_sampleSearches_solAGP.groupby('Month').count())\n",
    "print(df_sampleSearches_solBCN.groupby('Month').count())"
   ]
  },
  {
   "cell_type": "code",
   "execution_count": 72,
   "metadata": {},
   "outputs": [
    {
     "data": {
      "text/plain": [
       "array(['2013-1', '2013-2', '2013-3', '2013-4'], dtype=object)"
      ]
     },
     "execution_count": 72,
     "metadata": {},
     "output_type": "execute_result"
    }
   ],
   "source": [
    "df_sampleSearches['Month'].unique()"
   ]
  },
  {
   "cell_type": "code",
   "execution_count": 76,
   "metadata": {},
   "outputs": [
    {
     "data": {
      "image/png": "[encoded data removed]",
      "text/plain": [
       "<Figure size 432x288 with 1 Axes>"
      ]
     },
     "metadata": {},
     "output_type": "display_data"
    }
   ],
   "source": [
    "plt.plot(df_sampleSearches_solMAD.groupby('Month').count(),'-o')\n",
    "plt.plot(df_sampleSearches_solAGP.groupby('Month').count(),'-o')\n",
    "plt.plot(df_sampleSearches_solBCN.groupby('Month').count(),'-o')\n",
    "\n",
    "plt.title('Number of searches for flights arriving')\n",
    "plt.ylabel('Searches count')\n",
    "plt.xlabel('Date')\n",
    "plt.legend(['Madrid','Malaga','Barcelona'],loc=1)\n",
    "plt.xticks(df_sampleSearches['Month'].unique(),rotation=45)\n",
    "plt.grid(alpha=0.7)\n",
    "plt.show()"
   ]
  },
  {
   "cell_type": "code",
   "execution_count": 89,
   "metadata": {},
   "outputs": [],
   "source": [
    "delimiter='^'\n",
    "chunksize=500000\n",
    "usecols=['Date','Destination']\n",
    "dataSearches = pd.read_csv(fSearches, delimiter=delimiter, compression='bz2', iterator=True, chunksize=chunksize,usecols=usecols)"
   ]
  },
  {
   "cell_type": "code",
   "execution_count": 90,
   "metadata": {},
   "outputs": [],
   "source": [
    "df_totalMAD=pd.DataFrame()\n",
    "df_totalAGP=pd.DataFrame()\n",
    "df_totalBCN=pd.DataFrame()\n",
    "for chunk in dataSearches:\n",
    "    chunk=chunk.dropna()\n",
    "    chunk['Date']=pd.to_datetime(chunk['Date'])\n",
    "    chunk['Month']=chunk['Date'].apply(lambda x: int(x.month))\n",
    "    df_totalMAD=df_totalMAD.append(chunk[['Destination','Month']][chunk['Destination']=='MAD'])\n",
    "    df_totalAGP=df_totalAGP.append(chunk[['Destination','Month']][chunk['Destination']=='AGP'])\n",
    "    df_totalBCN=df_totalBCN.append(chunk[['Destination','Month']][chunk['Destination']=='BCN'])"
   ]
  },
  {
   "cell_type": "code",
   "execution_count": 97,
   "metadata": {},
   "outputs": [
    {
     "data": {
      "text/plain": [
       "['January',\n",
       " 'February',\n",
       " 'March',\n",
       " 'April',\n",
       " 'May',\n",
       " 'June',\n",
       " 'July',\n",
       " 'August',\n",
       " 'September',\n",
       " 'October',\n",
       " 'November',\n",
       " 'December']"
      ]
     },
     "execution_count": 97,
     "metadata": {},
     "output_type": "execute_result"
    }
   ],
   "source": [
    "import calendar\n",
    "month=list(calendar.month_name[1:13])\n",
    "month"
   ]
  },
  {
   "cell_type": "code",
   "execution_count": 99,
   "metadata": {},
   "outputs": [
    {
     "data": {
      "image/png": "[encoded data removed]",
      "text/plain": [
       "<Figure size 432x288 with 1 Axes>"
      ]
     },
     "metadata": {},
     "output_type": "display_data"
    }
   ],
   "source": [
    "#import calendar\n",
    "#month=list(calendar.month_name[1:13])\n",
    "plt.plot(df_totalMAD.groupby('Month').count(),'-o')\n",
    "plt.plot(df_totalAGP.groupby('Month').count(),'-o')\n",
    "plt.plot(df_totalBCN.groupby('Month').count(),'-o')\n",
    "\n",
    "plt.title('Number of searches for flights arriving')\n",
    "plt.ylabel('Searches count')\n",
    "plt.xlabel('Date')\n",
    "plt.legend(['Madrid','Malaga','Barcelona'],loc=1)\n",
    "#plt.xticks(month,rotation=45)\n",
    "plt.grid(alpha=0.7)\n",
    "plt.show()"
   ]
  },
  {
   "cell_type": "markdown",
   "metadata": {},
   "source": [
    "## 4. Exercise 4\n",
    "Match searches with bookings\n",
    "- For every search in the searches file, find out whether the search ended up in a booking or not (using the info in the bookings file). For instance, search and booking origin and destination should match. \n",
    "- For the bookings file, origin and destination are the columns dep_port and arr_port, respectively. \n",
    "- Generate a CSV file with the search data, and an additional field, containing 1 if the search ended up in a booking, and 0 otherwise."
   ]
  },
  {
   "cell_type": "code",
   "execution_count": null,
   "metadata": {},
   "outputs": [],
   "source": []
  }
 ],
 "metadata": {
  "kernelspec": {
   "display_name": "Python 3",
   "language": "python",
   "name": "python3"
  },
  "language_info": {
   "codemirror_mode": {
    "name": "ipython",
    "version": 3
   },
   "file_extension": ".py",
   "mimetype": "text/x-python",
   "name": "python",
   "nbconvert_exporter": "python",
   "pygments_lexer": "ipython3",
   "version": "3.6.4"
  }
 },
 "nbformat": 4,
 "nbformat_minor": 2
}
