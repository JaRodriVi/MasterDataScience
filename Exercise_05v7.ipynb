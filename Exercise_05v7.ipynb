{
  "nbformat": 4,
  "nbformat_minor": 0,
  "metadata": {
    "colab": {
      "name": "Exercise_05v7.ipynb",
      "version": "0.3.2",
      "provenance": [],
      "collapsed_sections": []
    },
    "kernelspec": {
      "name": "python3",
      "display_name": "Python 3"
    }
  },
  "cells": [
    {
      "cell_type": "markdown",
      "metadata": {
        "id": "view-in-github",
        "colab_type": "text"
      },
      "source": [
        "[View in Colaboratory](https://colab.research.google.com/github/JaRodriVi/MasterDataScience/blob/master/Exercise_05v7.ipynb)"
      ]
    },
    {
      "metadata": {
        "id": "2Xb9PNGHasXv",
        "colab_type": "text"
      },
      "cell_type": "markdown",
      "source": [
        "# Ejercicios:\n",
        "\n",
        "Ejercicios de la tercera semana del Master de Data Science, 6 y 7 de Abril de 2018.\n",
        "\n",
        "Conceptos básicos de Python."
      ]
    },
    {
      "metadata": {
        "id": "iNBwq0HfZZak",
        "colab_type": "code",
        "colab": {}
      },
      "cell_type": "code",
      "source": [
        "#Implement a function that takes as input three variables, and returns the \n",
        "#largest of the three. Do this without using the Python max() function! \n",
        "#Make one version without any local variable and another with one local \n",
        "#variable. (hint: it might be easier to use edit)\n",
        "\n",
        "def maximoD3(x,y,z):\n",
        "    if (x>y):\n",
        "        if (x>z):\n",
        "            return x\n",
        "        else:\n",
        "            return z\n",
        "    else:\n",
        "        if (y>z):\n",
        "            return y\n",
        "        else:\n",
        "            return z\n",
        "\n",
        "def maximoD3_2(x,y,z): \n",
        "    solution=0\n",
        "    if (x>y):\n",
        "        if (x>z):\n",
        "            solution = x\n",
        "        else:\n",
        "            solution = z\n",
        "    else:\n",
        "        if (y>z):\n",
        "            solution = y\n",
        "        else:\n",
        "            solution = z\n",
        "    return solution"
      ],
      "execution_count": 0,
      "outputs": []
    },
    {
      "metadata": {
        "id": "qa6D7icMcTXK",
        "colab_type": "code",
        "colab": {
          "base_uri": "https://localhost:8080/",
          "height": 34
        },
        "outputId": "2a322233-c555-423e-ee67-3da064ad004e"
      },
      "cell_type": "code",
      "source": [
        "maximoD3(4,3,7)"
      ],
      "execution_count": 13,
      "outputs": [
        {
          "output_type": "execute_result",
          "data": {
            "text/plain": [
              "7"
            ]
          },
          "metadata": {
            "tags": []
          },
          "execution_count": 13
        }
      ]
    },
    {
      "metadata": {
        "id": "zpk4CN4ccaeb",
        "colab_type": "code",
        "colab": {
          "base_uri": "https://localhost:8080/",
          "height": 34
        },
        "outputId": "9f445ea1-b3a4-4038-8acb-88c1dd669962"
      },
      "cell_type": "code",
      "source": [
        "maximoD3_2(8,4,6)"
      ],
      "execution_count": 14,
      "outputs": [
        {
          "output_type": "execute_result",
          "data": {
            "text/plain": [
              "8"
            ]
          },
          "metadata": {
            "tags": []
          },
          "execution_count": 14
        }
      ]
    },
    {
      "metadata": {
        "id": "e3v89lmIchGM",
        "colab_type": "code",
        "colab": {}
      },
      "cell_type": "code",
      "source": [
        ""
      ],
      "execution_count": 0,
      "outputs": []
    }
  ]
}