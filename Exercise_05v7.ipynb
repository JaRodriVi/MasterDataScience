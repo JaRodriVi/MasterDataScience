{
  "nbformat": 4,
  "nbformat_minor": 0,
  "metadata": {
    "colab": {
      "name": "Exercise_05v7.ipynb",
      "version": "0.3.2",
      "provenance": [],
      "collapsed_sections": []
    },
    "kernelspec": {
      "name": "python3",
      "display_name": "Python 3"
    }
  },
  "cells": [
    {
      "cell_type": "markdown",
      "metadata": {
        "id": "view-in-github",
        "colab_type": "text"
      },
      "source": [
        "[View in Colaboratory](https://colab.research.google.com/github/JaRodriVi/MasterDataScience/blob/master/Exercise_05v7.ipynb)"
      ]
    },
    {
      "metadata": {
        "id": "2Xb9PNGHasXv",
        "colab_type": "text"
      },
      "cell_type": "markdown",
      "source": [
        "# Ejercicios:\n",
        "\n",
        "Ejercicios de la tercera semana del Master de Data Science, 6 y 7 de Abril de 2018.\n",
        "\n",
        "Conceptos básicos de Python."
      ]
    },
    {
      "metadata": {
        "id": "iNBwq0HfZZak",
        "colab_type": "code",
        "colab": {}
      },
      "cell_type": "code",
      "source": [
        "#Implement a function that takes as input three variables, and returns the \n",
        "#largest of the three. Do this without using the Python max() function! \n",
        "#Make one version without any local variable and another with one local \n",
        "#variable. (hint: it might be easier to use edit)\n",
        "\n",
        "def maximoD3(x,y,z):\n",
        "    if (x>y):\n",
        "        if (x>z):\n",
        "            return x\n",
        "        else:\n",
        "            return z\n",
        "    else:\n",
        "        if (y>z):\n",
        "            return y\n",
        "        else:\n",
        "            return z\n",
        "\n",
        "def maximoD3_2(x,y,z): \n",
        "    solution=0\n",
        "    if (x>y):\n",
        "        if (x>z):\n",
        "            solution = x\n",
        "        else:\n",
        "            solution = z\n",
        "    else:\n",
        "        if (y>z):\n",
        "            solution = y\n",
        "        else:\n",
        "            solution = z\n",
        "    return solution"
      ],
      "execution_count": 0,
      "outputs": []
    },
    {
      "metadata": {
        "id": "qa6D7icMcTXK",
        "colab_type": "code",
        "colab": {
          "base_uri": "https://localhost:8080/",
          "height": 34
        },
        "outputId": "2a322233-c555-423e-ee67-3da064ad004e"
      },
      "cell_type": "code",
      "source": [
        "maximoD3(4,3,7)"
      ],
      "execution_count": 13,
      "outputs": [
        {
          "output_type": "execute_result",
          "data": {
            "text/plain": [
              "7"
            ]
          },
          "metadata": {
            "tags": []
          },
          "execution_count": 13
        }
      ]
    },
    {
      "metadata": {
        "id": "zpk4CN4ccaeb",
        "colab_type": "code",
        "colab": {
          "base_uri": "https://localhost:8080/",
          "height": 34
        },
        "outputId": "9f445ea1-b3a4-4038-8acb-88c1dd669962"
      },
      "cell_type": "code",
      "source": [
        "maximoD3_2(8,4,6)"
      ],
      "execution_count": 14,
      "outputs": [
        {
          "output_type": "execute_result",
          "data": {
            "text/plain": [
              "8"
            ]
          },
          "metadata": {
            "tags": []
          },
          "execution_count": 14
        }
      ]
    },
    {
      "metadata": {
        "id": "e3v89lmIchGM",
        "colab_type": "code",
        "colab": {}
      },
      "cell_type": "code",
      "source": [
        "#Write a function “centenario” that will take Name, and year of birth as \n",
        "#inputs, check if year of birth is int and cast it to int if not, and print \n",
        "#name together with the text explaining when the person is to have 100 years \n",
        "#(hint: use isinstance)\n",
        "\n",
        "def centenario(name,birth):\n",
        "    if (type(birth)==int):\n",
        "        birth=birth +100\n",
        "        birth=str(birth)\n",
        "        print(name + \" will reach 100 years in \" + birth)\n",
        "    else:\n",
        "        print(\"El anio de nacimiento no es un entero\")"
      ],
      "execution_count": 0,
      "outputs": []
    },
    {
      "metadata": {
        "id": "ox0Sp6QEn_eA",
        "colab_type": "code",
        "colab": {
          "base_uri": "https://localhost:8080/",
          "height": 34
        },
        "outputId": "7a363ce2-7ad3-440e-baa9-5628d4b0b12f"
      },
      "cell_type": "code",
      "source": [
        "centenario(\"Yordan\", 1990)"
      ],
      "execution_count": 3,
      "outputs": [
        {
          "output_type": "stream",
          "text": [
            "Yordan will reach 100 years in 2090\n"
          ],
          "name": "stdout"
        }
      ]
    },
    {
      "metadata": {
        "id": "qzoztDWWoItv",
        "colab_type": "code",
        "colab": {
          "base_uri": "https://localhost:8080/",
          "height": 34
        },
        "outputId": "f4ab3edf-9ce7-4ec1-eb6c-bf638b9b168c"
      },
      "cell_type": "code",
      "source": [
        "centenario(\"Yordan\", \"1990\")"
      ],
      "execution_count": 4,
      "outputs": [
        {
          "output_type": "stream",
          "text": [
            "El anio de nacimiento no es un entero\n"
          ],
          "name": "stdout"
        }
      ]
    },
    {
      "metadata": {
        "id": "IE3yqj4hoSGI",
        "colab_type": "code",
        "colab": {}
      },
      "cell_type": "code",
      "source": [
        "#Write a function to calculate the number of words, number of lines, and \n",
        "#length of a string the same way the wc command does in the command line\n",
        "\n",
        "def wc(text):\n",
        "    words = len(text.split())\n",
        "    lines = len(text.split('\\n'))\n",
        "    return words, lines , len(text)"
      ],
      "execution_count": 0,
      "outputs": []
    },
    {
      "metadata": {
        "id": "P7JBEaoapDsT",
        "colab_type": "code",
        "colab": {
          "base_uri": "https://localhost:8080/",
          "height": 34
        },
        "outputId": "5b41599a-4803-4cfb-d474-d6212c8545dd"
      },
      "cell_type": "code",
      "source": [
        "wc('aaaaa bbbbb\\nccccc')"
      ],
      "execution_count": 21,
      "outputs": [
        {
          "output_type": "execute_result",
          "data": {
            "text/plain": [
              "(3, 2, 17)"
            ]
          },
          "metadata": {
            "tags": []
          },
          "execution_count": 21
        }
      ]
    },
    {
      "metadata": {
        "id": "IMSAsuoNpHi7",
        "colab_type": "code",
        "colab": {}
      },
      "cell_type": "code",
      "source": [
        "#Write a Python program to remove the nth index character from a string. \n",
        "#If the input string is empty print warning.\n",
        "\n",
        "def removeN(text,n):\n",
        "    if len(text)<n :\n",
        "        print('WARNING')\n",
        "    else :\n",
        "        return text[:n]+text[n+1:] "
      ],
      "execution_count": 0,
      "outputs": []
    },
    {
      "metadata": {
        "id": "4y8z4kG6qHfX",
        "colab_type": "code",
        "colab": {
          "base_uri": "https://localhost:8080/",
          "height": 34
        },
        "outputId": "1ace4fb8-46ab-49e7-f8ee-337720aa0aab"
      },
      "cell_type": "code",
      "source": [
        "removeN('abcdefghijklmnopqrstuvwxyz', 4)"
      ],
      "execution_count": 23,
      "outputs": [
        {
          "output_type": "execute_result",
          "data": {
            "text/plain": [
              "'abcdfghijklmnopqrstuvwxyz'"
            ]
          },
          "metadata": {
            "tags": []
          },
          "execution_count": 23
        }
      ]
    },
    {
      "metadata": {
        "id": "IsbBhqZwqQsH",
        "colab_type": "code",
        "colab": {}
      },
      "cell_type": "code",
      "source": [
        ""
      ],
      "execution_count": 0,
      "outputs": []
    }
  ]
}